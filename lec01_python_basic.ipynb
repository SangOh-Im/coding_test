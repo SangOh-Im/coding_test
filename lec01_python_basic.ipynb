{
  "nbformat": 4,
  "nbformat_minor": 0,
  "metadata": {
    "colab": {
      "name": "lec01_python_basic.ipynb",
      "provenance": [],
      "collapsed_sections": [],
      "authorship_tag": "ABX9TyOJrQgfKi2s57eBr9bLQ7A7",
      "include_colab_link": true
    },
    "kernelspec": {
      "name": "python3",
      "display_name": "Python 3"
    },
    "language_info": {
      "name": "python"
    }
  },
  "cells": [
    {
      "cell_type": "markdown",
      "metadata": {
        "id": "view-in-github",
        "colab_type": "text"
      },
      "source": [
        "<a href=\"https://colab.research.google.com/github/SangOh-Im/coding_test/blob/main/lec01_python_basic.ipynb\" target=\"_parent\"><img src=\"https://colab.research.google.com/assets/colab-badge.svg\" alt=\"Open In Colab\"/></a>"
      ]
    },
    {
      "cell_type": "code",
      "metadata": {
        "colab": {
          "base_uri": "https://localhost:8080/"
        },
        "id": "MBcPPZ0603Zh",
        "outputId": "5a263e8c-6c80-4b5c-eebe-79aaa9542095"
      },
      "source": [
        "import time\n",
        "start = time.time()\n",
        "# 알고리즘\n",
        "aaa = 0\n",
        "for i in range(1000):\n",
        "  aaa += 1\n",
        "\n",
        "end = time.time()\n",
        "print(end-start)"
      ],
      "execution_count": null,
      "outputs": [
        {
          "output_type": "stream",
          "text": [
            "0.0003070831298828125\n"
          ],
          "name": "stdout"
        }
      ]
    },
    {
      "cell_type": "code",
      "metadata": {
        "colab": {
          "base_uri": "https://localhost:8080/"
        },
        "id": "hSJ3RujY0oJD",
        "outputId": "a91d3eed-c852-4965-f6e0-bf5804cb75d1"
      },
      "source": [
        "# 이진법 이용하므로.\n",
        "a = 0.3\n",
        "b = 0.6\n",
        "print(a+b)\n",
        "c = round(a+b,4)\n",
        "print(c)"
      ],
      "execution_count": null,
      "outputs": [
        {
          "output_type": "stream",
          "text": [
            "0.8999999999999999\n",
            "0.9\n"
          ],
          "name": "stdout"
        }
      ]
    },
    {
      "cell_type": "code",
      "metadata": {
        "colab": {
          "base_uri": "https://localhost:8080/"
        },
        "id": "48PLZnjq0wMq",
        "outputId": "12c87e5a-8817-496b-aa16-6c5390d78785"
      },
      "source": [
        "# 리스트컴프리헨션\n",
        "# 행렬 초기화\n",
        "n = 3\n",
        "m = 4\n",
        "array = [[0]*m for _ in range(n)]\n",
        "print(array)"
      ],
      "execution_count": null,
      "outputs": [
        {
          "output_type": "stream",
          "text": [
            "[[0, 0, 0, 0], [0, 0, 0, 0], [0, 0, 0, 0]]\n"
          ],
          "name": "stdout"
        }
      ]
    },
    {
      "cell_type": "code",
      "metadata": {
        "colab": {
          "base_uri": "https://localhost:8080/"
        },
        "id": "wAbZ-5Yh0yAE",
        "outputId": "360d1f35-8c00-4e65-ca40-aa395df46133"
      },
      "source": [
        "# list의 함수insert\n",
        "a = [0,1,2]\n",
        "a.insert(1,3)\n",
        "print(a)"
      ],
      "execution_count": null,
      "outputs": [
        {
          "output_type": "stream",
          "text": [
            "[0, 3, 1, 2]\n"
          ],
          "name": "stdout"
        }
      ]
    },
    {
      "cell_type": "code",
      "metadata": {
        "colab": {
          "base_uri": "https://localhost:8080/"
        },
        "id": "LDk-KaU61pe0",
        "outputId": "3666f7d7-7ee5-49b8-ae21-613f38e05304"
      },
      "source": [
        "# list의 함수 count\n",
        "a = [0,1,2]\n",
        "a.count(1) # 1의 개수"
      ],
      "execution_count": null,
      "outputs": [
        {
          "output_type": "execute_result",
          "data": {
            "text/plain": [
              "1"
            ]
          },
          "metadata": {
            "tags": []
          },
          "execution_count": 10
        }
      ]
    },
    {
      "cell_type": "code",
      "metadata": {
        "colab": {
          "base_uri": "https://localhost:8080/"
        },
        "id": "rVrvnbu11u0v",
        "outputId": "15a62273-e83b-4562-e2d7-5396ae099350"
      },
      "source": [
        "# list의 함수 remove함수는 하나만 제거한다.\n",
        "a = [0,1,1,2]\n",
        "a.remove(1)\n",
        "print(a)"
      ],
      "execution_count": null,
      "outputs": [
        {
          "output_type": "stream",
          "text": [
            "[0, 1, 2]\n"
          ],
          "name": "stdout"
        }
      ]
    },
    {
      "cell_type": "markdown",
      "metadata": {
        "id": "GVk0bAx1FWEI"
      },
      "source": [
        ""
      ]
    },
    {
      "cell_type": "code",
      "metadata": {
        "colab": {
          "base_uri": "https://localhost:8080/"
        },
        "id": "fy4u1rb9152Z",
        "outputId": "e1ea3dd5-dd70-40a6-f959-41fa08383036"
      },
      "source": [
        "a = [1,2,3,4,5,5,5]\n",
        "remove_set = {3,5} # set\n",
        "\n",
        "result = [i for i in a if i not in remove_set]\n",
        "print(result)"
      ],
      "execution_count": null,
      "outputs": [
        {
          "output_type": "stream",
          "text": [
            "<class 'set'>\n",
            "[1, 2, 4]\n"
          ],
          "name": "stdout"
        }
      ]
    },
    {
      "cell_type": "code",
      "metadata": {
        "colab": {
          "base_uri": "https://localhost:8080/"
        },
        "id": "QnJJeHDl2Lni",
        "outputId": "5512df8a-448e-4efe-8ece-7689e857dd60"
      },
      "source": [
        "# dict\n",
        "a = dict()\n",
        "a['홍길동'] = 97\n",
        "a['이순신'] = 98\n",
        "\n",
        "# key_list = list(a.keys())\n",
        "# value = list(a.values())\n",
        "# print(key_list,value)\n",
        "\n",
        "for key,value in a.items():\n",
        "  print(key,value)"
      ],
      "execution_count": null,
      "outputs": [
        {
          "output_type": "stream",
          "text": [
            "홍길동 97\n",
            "이순신 98\n"
          ],
          "name": "stdout"
        }
      ]
    },
    {
      "cell_type": "code",
      "metadata": {
        "colab": {
          "base_uri": "https://localhost:8080/"
        },
        "id": "WUojuFUoFj-x",
        "outputId": "fa30603b-f375-4b9b-d2d9-0b1f52bc388e"
      },
      "source": [
        "a = set([1,2,3,4,5])\n",
        "b = {3,4,5,6,7}\n",
        "\n",
        "print(a|b) # 합집합\n",
        "print(a&b) # 교집합\n",
        "print(a-b) # 차집합"
      ],
      "execution_count": null,
      "outputs": [
        {
          "output_type": "stream",
          "text": [
            "{1, 2, 3, 4, 5, 6, 7}\n",
            "{3, 4, 5}\n",
            "{1, 2}\n"
          ],
          "name": "stdout"
        }
      ]
    },
    {
      "cell_type": "code",
      "metadata": {
        "colab": {
          "base_uri": "https://localhost:8080/"
        },
        "id": "Ei37K3CLGa4T",
        "outputId": "5b140b46-37ec-4b98-c9c6-423cbf1affa0"
      },
      "source": [
        "# 기본 입출력\n",
        "n = int(input())\n",
        "data = list(map(int,input().split()))"
      ],
      "execution_count": null,
      "outputs": [
        {
          "output_type": "stream",
          "text": [
            "2\n",
            "78 89\n"
          ],
          "name": "stdout"
        }
      ]
    },
    {
      "cell_type": "code",
      "metadata": {
        "colab": {
          "base_uri": "https://localhost:8080/"
        },
        "id": "5IO6xJDmHxAO",
        "outputId": "bcc23236-ad76-4604-e077-728985aef419"
      },
      "source": [
        "import sys\n",
        "data = sys.stdin.readline().rstrip()\n",
        "print(data)"
      ],
      "execution_count": null,
      "outputs": [
        {
          "output_type": "stream",
          "text": [
            "\n"
          ],
          "name": "stdout"
        }
      ]
    },
    {
      "cell_type": "code",
      "metadata": {
        "colab": {
          "base_uri": "https://localhost:8080/"
        },
        "id": "5f8jMwehHsxR",
        "outputId": "c7e360fd-bd26-48d1-ae82-2bc43095b6f0"
      },
      "source": [
        "print(7, end='')\n",
        "print(9)\n",
        "print('-----')\n",
        "answer = 10\n",
        "print(f\"정답은 {answer}입니다\")"
      ],
      "execution_count": null,
      "outputs": [
        {
          "output_type": "stream",
          "text": [
            "79\n",
            "-----\n",
            "정답은 10입니다\n"
          ],
          "name": "stdout"
        }
      ]
    },
    {
      "cell_type": "code",
      "metadata": {
        "id": "AeAkJ4BJInIw"
      },
      "source": [
        "a = 50\n",
        "if a>=30:\n",
        "  pass # 코드 작성시 나중에 작성할 경우 보통 이용한다\n",
        "else:\n",
        "  print(\"a<30\")"
      ],
      "execution_count": null,
      "outputs": []
    },
    {
      "cell_type": "code",
      "metadata": {
        "colab": {
          "base_uri": "https://localhost:8080/"
        },
        "id": "GZliq6EkJa-R",
        "outputId": "38818499-ef81-4baf-f8fb-7d9312b80450"
      },
      "source": [
        "result = 0\n",
        "for i in range(1,10):\n",
        "  if i % 2 == 0:\n",
        "    continue # loop의 처음으로 가서 다음 loop 실행\n",
        "  result += i\n",
        "print(result)"
      ],
      "execution_count": null,
      "outputs": [
        {
          "output_type": "stream",
          "text": [
            "25\n"
          ],
          "name": "stdout"
        }
      ]
    },
    {
      "cell_type": "code",
      "metadata": {
        "colab": {
          "base_uri": "https://localhost:8080/"
        },
        "id": "kqBKkj9uJ_4i",
        "outputId": "7b6e1f34-dc91-4d77-b054-c58a32f1806b"
      },
      "source": [
        "array = [('홍길동',50),('이순신',32),('아무개',74)]\n",
        "\n",
        "def my_key(x): \n",
        "  return x[1] # 두번째 원소\n",
        "\n",
        "print(sorted(array,key = my_key)) # 두번째 원소를 기준으로 정렬 수행\n",
        "print(sorted(array,key = lambda x : x[1]))"
      ],
      "execution_count": null,
      "outputs": [
        {
          "output_type": "stream",
          "text": [
            "[('이순신', 32), ('홍길동', 50), ('아무개', 74)]\n",
            "[('이순신', 32), ('홍길동', 50), ('아무개', 74)]\n"
          ],
          "name": "stdout"
        }
      ]
    },
    {
      "cell_type": "code",
      "metadata": {
        "colab": {
          "base_uri": "https://localhost:8080/"
        },
        "id": "o5VmOTa6Lugx",
        "outputId": "d2dac4ed-e26e-4962-cd0c-b1b730e69b30"
      },
      "source": [
        "# map\n",
        "list1 = [1,2,3,4,5]\n",
        "list2 = [6,7,8,9,10]\n",
        "\n",
        "result = list(map(lambda a,b:a+b,list1,list2))\n",
        "print(result)"
      ],
      "execution_count": null,
      "outputs": [
        {
          "output_type": "stream",
          "text": [
            "[7, 9, 11, 13, 15]\n"
          ],
          "name": "stdout"
        }
      ]
    },
    {
      "cell_type": "code",
      "metadata": {
        "id": "nRjjak8tIRcX"
      },
      "source": [
        "# 표준라이브러리.\n",
        "import itertools # 순열,조합 : 완전탐색문제의 경우\n",
        "import heapq # 우선순위 큐   heappush, heappop\n",
        "import bisect # 이진 탐색 bisect_left, bisect_right(array,value)\n",
        "import collections # 덱, 카운터 deque, Counter\n",
        "import math # gcd"
      ],
      "execution_count": null,
      "outputs": []
    },
    {
      "cell_type": "code",
      "metadata": {
        "colab": {
          "base_uri": "https://localhost:8080/"
        },
        "id": "oqzHb1BMUcSb",
        "outputId": "66a554d6-9a5d-4527-9932-d0d2508ffa32"
      },
      "source": [
        "# eval\n",
        "result = eval(\"(3+5)*7\")\n",
        "print(result)"
      ],
      "execution_count": null,
      "outputs": [
        {
          "output_type": "stream",
          "text": [
            "56\n"
          ],
          "name": "stdout"
        }
      ]
    },
    {
      "cell_type": "code",
      "metadata": {
        "colab": {
          "base_uri": "https://localhost:8080/"
        },
        "id": "0V_aNwMZUuA_",
        "outputId": "4a79700c-9a1b-4a43-d72e-87b79cb9842c"
      },
      "source": [
        "# sorted()\n",
        "result = sorted([9,1,8,5,4])\n",
        "result_result = sorted([9,1,8,5,4],reverse=True)\n",
        "print(result)\n",
        "print(result_result)"
      ],
      "execution_count": null,
      "outputs": [
        {
          "output_type": "stream",
          "text": [
            "[1, 4, 5, 8, 9]\n",
            "[9, 8, 5, 4, 1]\n"
          ],
          "name": "stdout"
        }
      ]
    },
    {
      "cell_type": "code",
      "metadata": {
        "colab": {
          "base_uri": "https://localhost:8080/"
        },
        "id": "WvnZWlVGVEQD",
        "outputId": "a313ac09-ee77-4b82-af0f-5955957c93bc"
      },
      "source": [
        "# sorted() with key\n",
        "array = [('홍길동',35),('이순신',75),('아무개',50)]\n",
        "result = sorted(array,key=lambda x:x[1],reverse=True)\n",
        "print(result)"
      ],
      "execution_count": null,
      "outputs": [
        {
          "output_type": "stream",
          "text": [
            "[('이순신', 75), ('아무개', 50), ('홍길동', 35)]\n"
          ],
          "name": "stdout"
        }
      ]
    },
    {
      "cell_type": "code",
      "metadata": {
        "colab": {
          "base_uri": "https://localhost:8080/"
        },
        "id": "rBSlDqh0VfMV",
        "outputId": "7518469c-1af5-4fa4-8f36-9d6290c33c9a"
      },
      "source": [
        "from itertools import combinations\n",
        "data = ['A','B','C']\n",
        "result = list(combinations(data,2)) # 2개를 뽑는 모든 조합 구하기\n",
        "print(result)"
      ],
      "execution_count": null,
      "outputs": [
        {
          "output_type": "stream",
          "text": [
            "[('A', 'B'), ('A', 'C'), ('B', 'C')]\n"
          ],
          "name": "stdout"
        }
      ]
    },
    {
      "cell_type": "code",
      "metadata": {
        "colab": {
          "base_uri": "https://localhost:8080/"
        },
        "id": "LLwwlsouWOAv",
        "outputId": "7755b709-22df-47c2-cfe4-fb2771ccf21c"
      },
      "source": [
        "from itertools import product\n",
        "data = ['A','B','C']\n",
        "\n",
        "result = list(product(data,repeat=2)) # 2개를 뽑는 모든 순열 구하기\n",
        "print(result)"
      ],
      "execution_count": null,
      "outputs": [
        {
          "output_type": "stream",
          "text": [
            "[('A', 'A'), ('A', 'B'), ('A', 'C'), ('B', 'A'), ('B', 'B'), ('B', 'C'), ('C', 'A'), ('C', 'B'), ('C', 'C')]\n"
          ],
          "name": "stdout"
        }
      ]
    },
    {
      "cell_type": "code",
      "metadata": {
        "colab": {
          "base_uri": "https://localhost:8080/"
        },
        "id": "clp2rsa0XGL_",
        "outputId": "9dca38ab-cf2b-4157-e599-35f8421b05f1"
      },
      "source": [
        "from itertools import combinations_with_replacement\n",
        "data = ['A','B','C']\n",
        "\n",
        "result = list(combinations_with_replacement(data,2)) # 2개를 뽑는 모든 조합 구하기 (중복 허용)\n",
        "print(result)"
      ],
      "execution_count": null,
      "outputs": [
        {
          "output_type": "stream",
          "text": [
            "[('A', 'A'), ('A', 'B'), ('A', 'C'), ('B', 'B'), ('B', 'C'), ('C', 'C')]\n"
          ],
          "name": "stdout"
        }
      ]
    },
    {
      "cell_type": "code",
      "metadata": {
        "colab": {
          "base_uri": "https://localhost:8080/"
        },
        "id": "fotgW__JXVp_",
        "outputId": "15eb4386-9dcc-4b43-a660-55f366bd5bab"
      },
      "source": [
        "from collections import Counter\n",
        "\n",
        "counter = Counter(['red','blue','red','green','blue','blue'])\n",
        "\n",
        "print(counter)\n",
        "print(counter['blue']) #'blue'가 등장한 횟수 출력\n",
        "print(counter['green']) #'green'이 등장한 횟수 출력\n",
        "print(dict(counter)) #사전자료형으로 반환"
      ],
      "execution_count": null,
      "outputs": [
        {
          "output_type": "stream",
          "text": [
            "Counter({'blue': 3, 'red': 2, 'green': 1})\n",
            "3\n",
            "1\n",
            "{'red': 2, 'blue': 3, 'green': 1}\n"
          ],
          "name": "stdout"
        }
      ]
    },
    {
      "cell_type": "code",
      "metadata": {
        "colab": {
          "base_uri": "https://localhost:8080/"
        },
        "id": "t8XUzKbeX63s",
        "outputId": "66ec6da9-4c8e-4794-a6ed-64845d83f301"
      },
      "source": [
        "import math\n",
        "def lcm(a,b):\n",
        "  return a*b // math.gcd(a,b)\n",
        "a = 21\n",
        "b = 14\n",
        "\n",
        "print(math.gcd(21,14)) # 최대 공약수 계산\n",
        "print(lcm(21,14)) # 최소 공배수 계산"
      ],
      "execution_count": null,
      "outputs": [
        {
          "output_type": "stream",
          "text": [
            "7\n",
            "42\n"
          ],
          "name": "stdout"
        }
      ]
    },
    {
      "cell_type": "code",
      "metadata": {
        "id": "bq2xzlMnYQy-"
      },
      "source": [
        ""
      ],
      "execution_count": null,
      "outputs": []
    }
  ]
}