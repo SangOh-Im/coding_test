{
  "nbformat": 4,
  "nbformat_minor": 0,
  "metadata": {
    "colab": {
      "provenance": [],
      "authorship_tag": "ABX9TyMaBCDPwrihQHkKi2qeSGka",
      "include_colab_link": true
    },
    "kernelspec": {
      "name": "python3",
      "display_name": "Python 3"
    },
    "language_info": {
      "name": "python"
    }
  },
  "cells": [
    {
      "cell_type": "markdown",
      "metadata": {
        "id": "view-in-github",
        "colab_type": "text"
      },
      "source": [
        "<a href=\"https://colab.research.google.com/github/SangOh-Im/coding_test/blob/main/%EB%81%9D%EB%A7%90%EC%9E%87%EA%B8%B0.ipynb\" target=\"_parent\"><img src=\"https://colab.research.google.com/assets/colab-badge.svg\" alt=\"Open In Colab\"/></a>"
      ]
    },
    {
      "cell_type": "markdown",
      "source": [
        "#문제 설명\n",
        "끝말잇기를 한다. word는 끝말잇기한 결과를 이어붙인 단어이다. sugar, rabbit, tape 이 순서로 끝말잇기를 한 것일지도 모른다. 어쩌면 suga, arabbit, tape으로 진행 된 것일 수도 있다. 즉, word_dict 통하여 끝말잇기를 재연하면 된다. 이 중에서 suga, rab, bbit, tape 이렇게 4개의 단어를 사용한 경우가 가장 많은 단어를 사용한 것이다. return 이 최대 단어를 사용한 case의 단어 개수(이 경우 4)인 함수를 만들어라. 만약, 끝말잇기가 불가능한 경우 -1을 return한다.\n",
        "\n",
        "- 코딩 테스트 문제를 복기하였다. Test case를 더 많이 만들어야하겠지만 유형 파악을 위해서는 이 정도면 충분할 듯 하다."
      ],
      "metadata": {
        "id": "gs1qQB6yVAHo"
      }
    },
    {
      "cell_type": "code",
      "execution_count": 1,
      "metadata": {
        "id": "teuLa6ViSckv"
      },
      "outputs": [],
      "source": [
        "word = \"sugarabbitape\"\n",
        "word_dict = [\"sugar\",\"suga\",\"arabbit\",\"rabbit\",\"rab\",\"bbita\",\"bbit\",\"tape\"]"
      ]
    },
    {
      "cell_type": "code",
      "source": [
        "from collections import deque\n",
        "def solution(word, word_dict):\n",
        "  answer = -1\n",
        "  queue = deque()\n",
        "  s = [word, 0]\n",
        "  queue.append(s)\n",
        "  \n",
        "  # BFS 알고리즘\n",
        "  while(queue):\n",
        "    # print(queue)\n",
        "    w, stage = queue.popleft()\n",
        "    if len(w) == 1:\n",
        "      answer = max(answer, stage)\n",
        "    for i in range(len(word_dict)):\n",
        "      if w[:len(word_dict[i])] == word_dict[i]:\n",
        "        queue.append((w[len(word_dict[i])-1:], stage+1))\n",
        "  return answer \n",
        "\n",
        "# solution 함수 실행       \n",
        "print(solution(word,word_dict))"
      ],
      "metadata": {
        "colab": {
          "base_uri": "https://localhost:8080/"
        },
        "id": "XZ-1kAJJfXtu",
        "outputId": "acb5f590-ba8f-45bd-9ca9-44dd4d27000c"
      },
      "execution_count": 19,
      "outputs": [
        {
          "output_type": "stream",
          "name": "stdout",
          "text": [
            "4\n"
          ]
        }
      ]
    },
    {
      "cell_type": "code",
      "source": [],
      "metadata": {
        "id": "U-8jR0Imk5-_"
      },
      "execution_count": null,
      "outputs": []
    }
  ]
}