{
  "nbformat": 4,
  "nbformat_minor": 0,
  "metadata": {
    "colab": {
      "name": "lec06_다이나믹 프로그래밍.ipynb",
      "provenance": [],
      "collapsed_sections": [],
      "authorship_tag": "ABX9TyOqCh2VHN5t5c5FlmibcPrV",
      "include_colab_link": true
    },
    "kernelspec": {
      "name": "python3",
      "display_name": "Python 3"
    },
    "language_info": {
      "name": "python"
    }
  },
  "cells": [
    {
      "cell_type": "markdown",
      "metadata": {
        "id": "view-in-github",
        "colab_type": "text"
      },
      "source": [
        "<a href=\"https://colab.research.google.com/github/SangOh-Im/coding_test/blob/main/lec06_%EB%8B%A4%EC%9D%B4%EB%82%98%EB%AF%B9_%ED%94%84%EB%A1%9C%EA%B7%B8%EB%9E%98%EB%B0%8D.ipynb\" target=\"_parent\"><img src=\"https://colab.research.google.com/assets/colab-badge.svg\" alt=\"Open In Colab\"/></a>"
      ]
    },
    {
      "cell_type": "markdown",
      "metadata": {
        "id": "gTgwmmA9Kbhr"
      },
      "source": [
        "#다이나믹 프로그래밍 : 이미 계산된 결과는 별도의 메모리에 저장하여 다시 계산하지 않도록 만든 프로그래밍\n",
        "- 일반적으로 탑다운/보텀업 두가지 방식 존재\n",
        "\n",
        "- 일반적으로 프로그밍에서 동적이란 실행되는 도중에 실행에 필요한 메모리 할당함을 의미\n",
        "- 반면 다이나믹 프로그래밍에서 다이나믹은 별 의미 없다.... 아니 그럼 왜 쓴건데\n",
        "\n",
        "# 다이나믹 프로그밍 사용 가능한 조건\n",
        "1. 최적 부분 구조 (큰 문제를 작은 문제로 나눌 수 있고 이를 이용해 큰 문제 해결 가능)\n",
        "2. 중복되는 부분 문제 (동일한 작은 문제를 반복적으로 해결해야 합니다)\n",
        "\n"
      ]
    },
    {
      "cell_type": "code",
      "metadata": {
        "colab": {
          "base_uri": "https://localhost:8080/"
        },
        "id": "exu3XgDxJYLs",
        "outputId": "af86f979-e237-43a5-f4f3-34e7aeb7b755"
      },
      "source": [
        "# 피보나치 함수(Fibonacci Function)을 재귀함수로 구현\n",
        "# 중복이 발생하여 비효율적이다.\n",
        "def fibo(x):\n",
        "    if x == 1 or x == 2:\n",
        "        return 1\n",
        "    return fibo(x - 1) + fibo(x - 2)\n",
        "\n",
        "print(fibo(4))"
      ],
      "execution_count": null,
      "outputs": [
        {
          "output_type": "stream",
          "text": [
            "3\n"
          ],
          "name": "stdout"
        }
      ]
    },
    {
      "cell_type": "code",
      "metadata": {
        "colab": {
          "base_uri": "https://localhost:8080/"
        },
        "id": "Whfkd2u8LtMr",
        "outputId": "062ffa04-fc42-4b6b-979e-640f52e7160b"
      },
      "source": [
        "import time\n",
        "st = time.time()\n",
        "# 메모이제이션(탑다운,하향식,캐싱) : 한번 계산한 결과를 메모리 공간에 메모[재귀함수]\n",
        "# 한 번 계산된 결과를 메모이제이션(Memoization)하기 위한 리스트 초기화\n",
        "d = [0] * 100\n",
        "\n",
        "# 피보나치 함수(Fibonacci Function)를 재귀함수로 구현 (탑다운 다이나믹 프로그래밍)\n",
        "def fibo(x):\n",
        "    # 종료 조건(1 혹은 2일 때 1을 반환)\n",
        "    if x == 1 or x == 2:\n",
        "        return 1\n",
        "    # 이미 계산한 적 있는 문제라면 그대로 반환\n",
        "    if d[x] != 0:\n",
        "        return d[x]\n",
        "    # 아직 계산하지 않은 문제라면 점화식에 따라서 피보나치 결과 반환\n",
        "    d[x] = fibo(x - 1) + fibo(x - 2)\n",
        "    return d[x]\n",
        "\n",
        "et = time.time()\n",
        "print(fibo(99))\n",
        "print(et-st)"
      ],
      "execution_count": null,
      "outputs": [
        {
          "output_type": "stream",
          "text": [
            "218922995834555169026\n",
            "0.0001957416534423828\n"
          ],
          "name": "stdout"
        }
      ]
    },
    {
      "cell_type": "code",
      "metadata": {
        "colab": {
          "base_uri": "https://localhost:8080/"
        },
        "id": "36uEqUWqNuRg",
        "outputId": "ff9b6cf0-c1f3-4d95-c361-131aab925fc7"
      },
      "source": [
        "import time\n",
        "st = time.time()\n",
        "# 보텀업 [반복문] \n",
        "# 앞서 계산된 결과를 저장하기 위한 DP 테이블 초기화\n",
        "d = [0] * 100\n",
        "\n",
        "# 첫 번째 피보나치 수와 두 번째 피보나치 수는 1\n",
        "d[1] = 1\n",
        "d[2] = 1\n",
        "n = 99\n",
        "\n",
        "# 피보나치 함수(Fibonacci Function) 반복문으로 구현(보텀업 다이나믹 프로그래밍)\n",
        "for i in range(3, n + 1):\n",
        "    d[i] = d[i - 1] + d[i - 2]\n",
        "\n",
        "et = time.time()\n",
        "print(d[n])\n",
        "print(et-st)"
      ],
      "execution_count": null,
      "outputs": [
        {
          "output_type": "stream",
          "text": [
            "218922995834555169026\n",
            "0.0001933574676513672\n"
          ],
          "name": "stdout"
        }
      ]
    },
    {
      "cell_type": "code",
      "metadata": {
        "colab": {
          "base_uri": "https://localhost:8080/"
        },
        "id": "ynKu_ApRV63O",
        "outputId": "bd38fd64-ee14-4b8a-b4cf-b1847a7fb666"
      },
      "source": [
        "# 정수 N을 입력 받기\n",
        "n = int(input())\n",
        "# 모든 식량 정보 입력 받기\n",
        "array = list(map(int, input().split()))\n",
        "\n",
        "# 앞서 계산된 결과를 저장하기 위한 DP 테이블 초기화\n",
        "d = [0] * 100\n",
        "\n",
        "# 다이나믹 프로그래밍(Dynamic Programming) 진행 (보텀업)\n",
        "d[0] = array[0]\n",
        "d[1] = max(array[0], array[1]) \n",
        "for i in range(2, n):\n",
        "    d[i] = max(d[i - 1], d[i - 2] + array[i])\n",
        "\n",
        "# 계산된 결과 출력\n",
        "print(d[n - 1])"
      ],
      "execution_count": null,
      "outputs": [
        {
          "output_type": "stream",
          "text": [
            "4\n",
            "1 3 1 5\n",
            "8\n"
          ],
          "name": "stdout"
        }
      ]
    },
    {
      "cell_type": "code",
      "metadata": {
        "colab": {
          "base_uri": "https://localhost:8080/"
        },
        "id": "h3F_h7z1W-ho",
        "outputId": "050a152e-8ffc-43ca-91be-d8e7c1f3a8e2"
      },
      "source": [
        "# 1로 만들기\n",
        "# 정수 X를 입력 받기\n",
        "x = int(input())\n",
        "\n",
        "# 앞서 계산된 결과를 저장하기 위한 DP 테이블 초기화\n",
        "d = [0] * 1000001\n",
        "\n",
        "# 다이나믹 프로그래밍(Dynamic Programming) 진행(보텀업)\n",
        "for i in range(2, x + 1):\n",
        "    # 현재의 수에서 1을 빼는 경우\n",
        "    d[i] = d[i - 1] + 1\n",
        "    # 현재의 수가 2로 나누어 떨어지는 경우\n",
        "    if i % 2 == 0:\n",
        "        d[i] = min(d[i], d[i // 2] + 1)\n",
        "    # 현재의 수가 3으로 나누어 떨어지는 경우\n",
        "    if i % 3 == 0:\n",
        "        d[i] = min(d[i], d[i // 3] + 1)\n",
        "    # 현재의 수가 5로 나누어 떨어지는 경우\n",
        "    if i % 5 == 0:\n",
        "        d[i] = min(d[i], d[i // 5] + 1)\n",
        "\n",
        "print(d[x])"
      ],
      "execution_count": null,
      "outputs": [
        {
          "output_type": "stream",
          "text": [
            "5\n",
            "1\n"
          ],
          "name": "stdout"
        }
      ]
    },
    {
      "cell_type": "code",
      "metadata": {
        "id": "uCDF2ok8azch",
        "colab": {
          "base_uri": "https://localhost:8080/"
        },
        "outputId": "3f826656-f78f-4512-a561-8c5429d45bfa"
      },
      "source": [
        "# 효율적인 화폐 구성\n",
        "n, m = map(int, input().split())\n",
        "array = list(map(int, input().split()))\n",
        "\n",
        "d = [10001] * (m+1)\n",
        "d[0] = 0\n",
        "\n",
        "for i in array:\n",
        "  d[i] = 1\n",
        "  for j in range(2,m+1):\n",
        "    d[j] = min(d[j],d[j-i]+1)\n",
        "    \n",
        "\n",
        "if d[m] == 10001:\n",
        "  print(-1)\n",
        "else:\n",
        "  print(d[m])"
      ],
      "execution_count": null,
      "outputs": [
        {
          "output_type": "stream",
          "text": [
            "1 4\n",
            "2\n",
            "2\n"
          ],
          "name": "stdout"
        }
      ]
    },
    {
      "cell_type": "code",
      "metadata": {
        "colab": {
          "base_uri": "https://localhost:8080/"
        },
        "id": "Eq0V2VokXegD",
        "outputId": "eced605b-38a3-438c-f8e3-a020f532fed9"
      },
      "source": [
        "# input 예시 output  19\n",
        "# 3 4\n",
        "# 1 3 3 2 2 1 4 1 0 6 4 7 \n",
        "\n",
        "# 금광 정보 입력\n",
        "n,m = map(int,input().split())\n",
        "array = list(map(int,input().split()))\n",
        "result = 0 \n",
        "\n",
        "dp = []\n",
        "index = 0\n",
        "for i in range(n):\n",
        "  dp.append(array[index:index+m])\n",
        "  index += m\n",
        "\n",
        "# 다이나믹 프로그래밍 진행\n",
        "for i in range(1,n+1):\n",
        "  dp[0][i] = max(dp[0][i-1],dp[1][i-1])+dp[0][i]\n",
        "\n",
        "  for j in range(1,n-1):\n",
        "    dp[j][i] = max(dp[j][i-1],dp[j-1][i-1],dp[j+1][i-1])+dp[j][i]\n",
        "\n",
        "  dp[n-1][i] = max(dp[n-1][i-1],dp[n-2][i-1])+dp[n-1][i]\n",
        "\n",
        "for i in range(n):\n",
        "  result = max(result,dp[i][m-1])\n",
        "print(result)"
      ],
      "execution_count": null,
      "outputs": [
        {
          "output_type": "stream",
          "text": [
            "3 4\n",
            "1 3 3 2 2 1 4 1 0 6 4 7 \n",
            "19\n"
          ],
          "name": "stdout"
        }
      ]
    },
    {
      "cell_type": "code",
      "metadata": {
        "colab": {
          "base_uri": "https://localhost:8080/"
        },
        "id": "55h7ru0UpxoI",
        "outputId": "6546d718-a3a5-4b95-8a20-0d8311ba8a4a"
      },
      "source": [
        "# 병사 배치하기 (가장 긴 증가하는 부분 수열)\n",
        "# 7\n",
        "# 15 11 4 8 5 2 4\n",
        "\n",
        "n = int(input())\n",
        "array = list(map(int,input().split()))\n",
        "\n",
        "# 순서를 뒤집어 최장 증가 부분 수열 문제로 변환\n",
        "array.reverse()\n",
        "dp = [1]* n\n",
        "\n",
        "# 가장 긴 증가하는 부분 수열 알고리즘 수행(LIS 알고리즘)\n",
        "for i in range(1,n):\n",
        "  for j in range(0,i):\n",
        "    if array[j] < array[i]:\n",
        "      dp[i] = max(dp[i],dp[j]+1)\n",
        "\n",
        "print(n-max(dp))"
      ],
      "execution_count": null,
      "outputs": [
        {
          "output_type": "stream",
          "text": [
            "7\n",
            "15 11 4 8 5 2 4\n",
            "2\n"
          ],
          "name": "stdout"
        }
      ]
    },
    {
      "cell_type": "code",
      "metadata": {
        "id": "g-9QqRq8xoav"
      },
      "source": [
        "7\n",
        "15 11 4 8 5 2 4\n",
        "2"
      ],
      "execution_count": null,
      "outputs": []
    },
    {
      "cell_type": "code",
      "metadata": {
        "id": "HnEZeJPs3M5M"
      },
      "source": [
        ""
      ],
      "execution_count": null,
      "outputs": []
    }
  ]
}