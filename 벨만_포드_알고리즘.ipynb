{
  "nbformat": 4,
  "nbformat_minor": 0,
  "metadata": {
    "colab": {
      "name": "벨만 포드 알고리즘.ipynb",
      "provenance": [],
      "collapsed_sections": [],
      "authorship_tag": "ABX9TyNKh+dn69MVg+gB3SswuCtC",
      "include_colab_link": true
    },
    "kernelspec": {
      "name": "python3",
      "display_name": "Python 3"
    },
    "language_info": {
      "name": "python"
    }
  },
  "cells": [
    {
      "cell_type": "markdown",
      "metadata": {
        "id": "view-in-github",
        "colab_type": "text"
      },
      "source": [
        "<a href=\"https://colab.research.google.com/github/SangOh-Im/coding_test/blob/main/%EB%B2%A8%EB%A7%8C_%ED%8F%AC%EB%93%9C_%EC%95%8C%EA%B3%A0%EB%A6%AC%EC%A6%98.ipynb\" target=\"_parent\"><img src=\"https://colab.research.google.com/assets/colab-badge.svg\" alt=\"Open In Colab\"/></a>"
      ]
    },
    {
      "cell_type": "code",
      "metadata": {
        "id": "btNNO0hZwfJJ"
      },
      "source": [
        "# 음수 간선이 포함된 상황에서의 최단거리 문제\n",
        "# 음수 간선의 순환이 존재하는 경우 최단 거리 구할 수 없다.\n",
        "\n",
        "# 벨만 포드 알고리즘은 다익스트라 알고리즘보다 느리지만 음수 간선\n",
        "# 존재해도 최단거리 구할 수 있고 음수 순환 탐지 가능"
      ],
      "execution_count": null,
      "outputs": []
    },
    {
      "cell_type": "code",
      "metadata": {
        "id": "cUObfWhvxRMC"
      },
      "source": [
        ""
      ],
      "execution_count": null,
      "outputs": []
    },
    {
      "cell_type": "code",
      "metadata": {
        "colab": {
          "base_uri": "https://localhost:8080/"
        },
        "id": "sjO-L4xLy12c",
        "outputId": "a774ff2b-cf97-4cfd-825f-e89a451a6f0d"
      },
      "source": [
        "import sys\n",
        "\n",
        "INF = int(1e9) # 무한을 의미하는 값으로 10억을 설정\n",
        "\n",
        "# 노드의 개수, 간선의 개수를 입력받기\n",
        "n, m = map(int, input().split())\n",
        "# 모든 간선에 대한 정보를 담는 리스트 만들기\n",
        "edges = []\n",
        "# 최단 거리 테이블을 모두 무한으로 초기화\n",
        "distance = [INF] * (n + 1)\n",
        "\n",
        "# 모든 간선 정보를 입력받기\n",
        "for _ in range(m):\n",
        "    a, b, c = map(int, input().split())\n",
        "    # a번 노드에서 b번 노드로 가는 비용이 c라는 의미\n",
        "    edges.append((a, b, c))\n",
        "\n",
        "def bf(start):\n",
        "    # 시작 노드에 대해서 초기화\n",
        "    distance[start] = 0\n",
        "    # 전체 n - 1번의 라운드(round)를 반복\n",
        "    for i in range(n):\n",
        "        # 매 반복마다 \"모든 간선\"을 확인하며\n",
        "        for j in range(m):\n",
        "            cur_node = edges[j][0]\n",
        "            next_node = edges[j][1]\n",
        "            edge_cost = edges[j][2]\n",
        "            # 현재 간선을 거쳐서 다른 노드로 이동하는 거리가 더 짧은 경우\n",
        "            if distance[cur_node] != INF and distance[next_node] > distance[cur_node] + edge_cost:\n",
        "                distance[next_node] = distance[cur_node] + edge_cost\n",
        "                # n번째 라운드에서도 값이 갱신된다면 음수 순환이 존재\n",
        "                if i == n - 1:\n",
        "                    return True\n",
        "    return False\n",
        "\n",
        "# 벨만 포드 알고리즘을 수행\n",
        "negative_cycle = bf(1) # 1번 노드가 시작 노드\n",
        "\n",
        "if negative_cycle:\n",
        "    print(\"-1\")\n",
        "else:\n",
        "    # 1번 노드를 제외한 다른 모든 노드로 가기 위한 최단 거리를 출력\n",
        "    for i in range(2, n + 1):\n",
        "        # 도달할 수 없는 경우, -1을 출력\n",
        "        if distance[i] == INF:\n",
        "            print(\"-1\")\n",
        "        # 도달할 수 있는 경우 거리를 출력\n",
        "        else:\n",
        "            print(distance[i])\n",
        "'''\n",
        "6 9\n",
        "1 2 6\n",
        "1 3 2\n",
        "2 3 2\n",
        "2 4 2\n",
        "3 5 1\n",
        "4 6 2\n",
        "5 2 -4\n",
        "5 4 3\n",
        "5 6 4\n",
        "-1\n",
        "'''"
      ],
      "execution_count": null,
      "outputs": [
        {
          "output_type": "stream",
          "text": [
            "6 9\n",
            "1 2 6\n",
            "1 3 2\n",
            "2 3 2\n",
            "2 4 2\n",
            "3 5 1\n",
            "4 6 2\n",
            "5 2 -4\n",
            "5 4 3\n",
            "5 6 4\n",
            "-1\n"
          ],
          "name": "stdout"
        }
      ]
    },
    {
      "cell_type": "code",
      "metadata": {
        "id": "s_uZECEpy2uc"
      },
      "source": [
        ""
      ],
      "execution_count": null,
      "outputs": []
    }
  ]
}