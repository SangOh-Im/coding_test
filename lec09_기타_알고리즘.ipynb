{
  "nbformat": 4,
  "nbformat_minor": 0,
  "metadata": {
    "colab": {
      "name": "lec09_기타 알고리즘.ipynb",
      "provenance": [],
      "collapsed_sections": [],
      "authorship_tag": "ABX9TyNPuaPfdTFHZkN2CnoCqjF3",
      "include_colab_link": true
    },
    "kernelspec": {
      "name": "python3",
      "display_name": "Python 3"
    },
    "language_info": {
      "name": "python"
    }
  },
  "cells": [
    {
      "cell_type": "markdown",
      "metadata": {
        "id": "view-in-github",
        "colab_type": "text"
      },
      "source": [
        "<a href=\"https://colab.research.google.com/github/SangOh-Im/coding_test/blob/main/lec09_%EA%B8%B0%ED%83%80_%EC%95%8C%EA%B3%A0%EB%A6%AC%EC%A6%98.ipynb\" target=\"_parent\"><img src=\"https://colab.research.google.com/assets/colab-badge.svg\" alt=\"Open In Colab\"/></a>"
      ]
    },
    {
      "cell_type": "code",
      "metadata": {
        "colab": {
          "base_uri": "https://localhost:8080/"
        },
        "id": "7VhM2EUvFqJw",
        "outputId": "420db252-015d-4bf0-eadb-7330f4f0a2ee"
      },
      "source": [
        "import math\n",
        "# 소수 판별 함수\n",
        "def is_prime_number(x):\n",
        "    # 2부터 x의 제곱근까지의 모든 수를 확인하며\n",
        "    for i in range(2, int(math.sqrt(x)) + 1):\n",
        "        # x가 해당 수로 나누어떨어진다면\n",
        "        if x % i == 0:\n",
        "            return False # 소수가 아님\n",
        "    return True # 소수임\n",
        "\n",
        "print(is_prime_number(4)) # 4는 소수가 아님\n",
        "print(is_prime_number(7)) # 7은 소수임"
      ],
      "execution_count": null,
      "outputs": [
        {
          "output_type": "stream",
          "text": [
            "False\n",
            "True\n"
          ],
          "name": "stdout"
        }
      ]
    },
    {
      "cell_type": "code",
      "metadata": {
        "id": "p9iWl012G1BV"
      },
      "source": [
        "# 에라토스테네스의 체 알고리즘\n",
        "import math\n",
        "\n",
        "n = 1000 # 2부터 1,000까지의 모든 수에 대하여 소수 판별\n",
        "array = [True for i in range(n + 1)] # 처음엔 모든 수가 소수(True)인 것으로 초기화\n",
        "\n",
        "# 에라토스테네스의 체 알고리즘 \n",
        "for i in range(2, int(math.sqrt(n)) + 1): # 2부터 n의 제곱근까지의 모든 수를 확인하며\n",
        "    if array[i] == True: # i가 소수인 경우 (남은 수인 경우)\n",
        "        # i를 제외한 i의 모든 배수를 지우기\n",
        "        j = 2 \n",
        "        while i * j <= n:\n",
        "            array[i * j] = False\n",
        "            j += 1\n",
        "\n",
        "# 모든 소수 출력\n",
        "for i in range(2, n + 1):\n",
        "    if array[i]:\n",
        "        print(i, end=' ')"
      ],
      "execution_count": null,
      "outputs": []
    },
    {
      "cell_type": "code",
      "metadata": {
        "id": "E7W9VwkzIubE"
      },
      "source": [
        "# 투 포인터 알고리즘 : 리스트에 순차적으로 접근해야 할 때 두 개의 점의\n",
        "# 위치를 기록하면서 처리하는 알고리즘"
      ],
      "execution_count": null,
      "outputs": []
    },
    {
      "cell_type": "code",
      "metadata": {
        "id": "1UGFXhvDJ2JB"
      },
      "source": [
        "# 특정한 합을 가지는 부분 연속 수열 찾기\n",
        "n = 5 # 데이터의 개수 N\n",
        "m = 5 # 찾고자 하는 부분합 M\n",
        "data = [1, 2, 3, 2, 5] # 전체 수열\n",
        "\n",
        "count = 0\n",
        "interval_sum = 0\n",
        "end = 0\n",
        "\n",
        "# start를 차례대로 증가시키며 반복\n",
        "for start in range(n):\n",
        "    # end를 가능한 만큼 이동시키기\n",
        "    while interval_sum < m and end < n:\n",
        "        interval_sum += data[end]\n",
        "        end += 1\n",
        "    # 부분합이 m일 때 카운트 증가\n",
        "    if interval_sum == m:\n",
        "        count += 1\n",
        "    interval_sum -= data[start]\n",
        "\n",
        "print(count)"
      ],
      "execution_count": null,
      "outputs": []
    },
    {
      "cell_type": "code",
      "metadata": {
        "id": "DONnQ0IPM1wz"
      },
      "source": [
        "# 구간 합 (Interval Sum) : 특정 구간의 모든 수를 합한 값을 계산하는 문제\n",
        "# 접두사 합 (Prefix Sum) : 배열의 맨 앞부터 특정 위치까지의 합을 미리 구해 놓은 것"
      ],
      "execution_count": null,
      "outputs": []
    },
    {
      "cell_type": "code",
      "metadata": {
        "id": "ee5Aa3D1MIkY"
      },
      "source": [
        "# 데이터의 개수 N과 전체 데이터 선언\n",
        "n = 5\n",
        "data = [10, 20, 30, 40, 50]\n",
        "\n",
        "# 접두사 합(Prefix Sum) 배열 계산\n",
        "sum_value = 0\n",
        "prefix_sum = [0]\n",
        "for i in data:\n",
        "    sum_value += i\n",
        "    prefix_sum.append(sum_value)\n",
        "\n",
        "# 구간 합 계산 (세 번째 수부터 네 번째 수까지)\n",
        "left = 3\n",
        "right = 4\n",
        "print(prefix_sum[right] - prefix_sum[left - 1])"
      ],
      "execution_count": null,
      "outputs": []
    }
  ]
}