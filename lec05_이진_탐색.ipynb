{
  "nbformat": 4,
  "nbformat_minor": 0,
  "metadata": {
    "colab": {
      "name": "lec05.이진 탐색.ipynb",
      "provenance": [],
      "collapsed_sections": [],
      "authorship_tag": "ABX9TyN9po0eRPoZzNrhjuaFbpVe",
      "include_colab_link": true
    },
    "kernelspec": {
      "name": "python3",
      "display_name": "Python 3"
    },
    "language_info": {
      "name": "python"
    }
  },
  "cells": [
    {
      "cell_type": "markdown",
      "metadata": {
        "id": "view-in-github",
        "colab_type": "text"
      },
      "source": [
        "<a href=\"https://colab.research.google.com/github/SangOh-Im/coding_test/blob/main/lec05_%EC%9D%B4%EC%A7%84_%ED%83%90%EC%83%89.ipynb\" target=\"_parent\"><img src=\"https://colab.research.google.com/assets/colab-badge.svg\" alt=\"Open In Colab\"/></a>"
      ]
    },
    {
      "cell_type": "code",
      "metadata": {
        "colab": {
          "base_uri": "https://localhost:8080/"
        },
        "id": "2WXDkLS1fzbp",
        "outputId": "23d89c93-9b1c-413b-c34b-4009c806b8a0"
      },
      "source": [
        "# 순차 탐색 소스코드 구현\n",
        "def sequential_search(n, target, array):\n",
        "    # 각 원소를 하나씩 확인하며\n",
        "    for i in range(n):\n",
        "        # 현재의 원소가 찾고자 하는 원소와 동일한 경우\n",
        "        if array[i] == target:\n",
        "            return i + 1 # 현재의 위치 반환 (인덱스는 0부터 시작하므로 1 더하기)\n",
        "    return -1 # 원소를 찾지 못한 경우 -1 반환\n",
        "\n",
        "print(\"생성할 원소 개수를 입력한 다음 한 칸 띄고 찾을 문자열을 입력하세요.\")\n",
        "input_data = input().split()\n",
        "n = int(input_data[0]) # 원소의 개수\n",
        "target = input_data[1] # 찾고자 하는 문자열\n",
        "\n",
        "print(\"앞서 적은 원소 개수만큼 문자열을 입력하세요. 구분은 띄어쓰기 한 칸으로 합니다.\")  \n",
        "array = input().split()\n",
        "\n",
        "# 순차 탐색 수행 결과 출력\n",
        "print(sequential_search(n, target, array))"
      ],
      "execution_count": null,
      "outputs": [
        {
          "output_type": "stream",
          "text": [
            "생성할 원소 개수를 입력한 다음 한 칸 띄고 찾을 문자열을 입력하세요.\n",
            "5 a\n",
            "앞서 적은 원소 개수만큼 문자열을 입력하세요. 구분은 띄어쓰기 한 칸으로 합니다.\n",
            "c d s q e\n",
            "-1\n"
          ],
          "name": "stdout"
        }
      ]
    },
    {
      "cell_type": "code",
      "metadata": {
        "colab": {
          "base_uri": "https://localhost:8080/"
        },
        "id": "VMvssYL4hFjv",
        "outputId": "68d70c6a-b04d-45c1-f989-dc8ec7f7e33a"
      },
      "source": [
        "# 이진 탐색 소스코드 구현 (재귀 함수) \n",
        "def binary_search(array, target, start, end):\n",
        "    if start > end:\n",
        "        return None\n",
        "    mid = (start + end) // 2\n",
        "    # 찾은 경우 중간점 인덱스 반환\n",
        "    if array[mid] == target:\n",
        "        return mid\n",
        "    # 중간점의 값보다 찾고자 하는 값이 작은 경우 왼쪽 확인\n",
        "    elif array[mid] > target:\n",
        "        return binary_search(array, target, start, mid - 1)\n",
        "    # 중간점의 값보다 찾고자 하는 값이 큰 경우 오른쪽 확인\n",
        "    else:\n",
        "        return binary_search(array, target, mid + 1, end)\n",
        "\n",
        "# n(원소의 개수)과 target(찾고자 하는 값)을 입력 받기\n",
        "n, target = list(map(int, input().split()))\n",
        "# 전체 원소 입력 받기\n",
        "array = list(map(int, input().split()))\n",
        "\n",
        "# 이진 탐색 수행 결과 출력\n",
        "result = binary_search(array, target, 0, n - 1)\n",
        "if result == None:\n",
        "    print(\"원소가 존재하지 않습니다.\")\n",
        "else:\n",
        "    print(result + 1)"
      ],
      "execution_count": null,
      "outputs": [
        {
          "output_type": "stream",
          "text": [
            "5 1\n",
            "0 2 1 5 7\n",
            "3\n"
          ],
          "name": "stdout"
        }
      ]
    },
    {
      "cell_type": "code",
      "metadata": {
        "colab": {
          "base_uri": "https://localhost:8080/"
        },
        "id": "E9kgpYG8nkGX",
        "outputId": "594a4958-4db8-49d7-cce7-2d547f41e334"
      },
      "source": [
        "# 이진 탐색 소스코드 구현 (반복문)\n",
        "def binary_search(array, target, start, end):\n",
        "    while start <= end:\n",
        "        mid = (start + end) // 2\n",
        "        # 찾은 경우 중간점 인덱스 반환\n",
        "        if array[mid] == target:\n",
        "            return mid\n",
        "        # 중간점의 값보다 찾고자 하는 값이 작은 경우 왼쪽 확인\n",
        "        elif array[mid] > target:\n",
        "            end = mid - 1\n",
        "        # 중간점의 값보다 찾고자 하는 값이 큰 경우 오른쪽 확인\n",
        "        else:\n",
        "            start = mid + 1\n",
        "    return None\n",
        "\n",
        "# n(원소의 개수)과 target(찾고자 하는 값)을 입력 받기\n",
        "n, target = list(map(int, input().split()))\n",
        "# 전체 원소 입력 받기\n",
        "array = list(map(int, input().split()))\n",
        "\n",
        "# 이진 탐색 수행 결과 출력\n",
        "result = binary_search(array, target, 0, n - 1)\n",
        "if result == None:\n",
        "    print(\"원소가 존재하지 않습니다.\")\n",
        "else:\n",
        "    print(result + 1)"
      ],
      "execution_count": null,
      "outputs": [
        {
          "output_type": "stream",
          "text": [
            "5 1\n",
            "0 2 5 7 8\n",
            "원소가 존재하지 않습니다.\n"
          ],
          "name": "stdout"
        }
      ]
    },
    {
      "cell_type": "code",
      "metadata": {
        "colab": {
          "base_uri": "https://localhost:8080/"
        },
        "id": "-aPyHRhAqJG-",
        "outputId": "54beef0c-bb64-422e-c748-91071449bbae"
      },
      "source": [
        "# 파이썬에서 빠르게 입력받기\n",
        "import sys\n",
        "# 하나의 문자열 데이터 입력 받기\n",
        "input_data = sys.stdin.readline().rstrip() \n",
        "# 입력 받은 문자열 그대로 출력하기\n",
        "print(input_data)"
      ],
      "execution_count": null,
      "outputs": [
        {
          "output_type": "stream",
          "text": [
            "\n"
          ],
          "name": "stdout"
        }
      ]
    },
    {
      "cell_type": "code",
      "metadata": {
        "colab": {
          "base_uri": "https://localhost:8080/"
        },
        "id": "WtJm_wzmrsk0",
        "outputId": "3c330220-fa57-4f0d-9a44-0b57ae8609e3"
      },
      "source": [
        "# 파이썬 이진 탐색 라이브러리\n",
        "from bisect import bisect_left,bisect_right\n",
        "\n",
        "a = [1,2,4,4,8]\n",
        "x = 4\n",
        "\n",
        "print(bisect_left(a,x)) # 정렬된 순서를 유지하면서 배열 a에 x를 삽입할 가장 왼쪽 인덱스를 반환\n",
        "print(bisect_right(a,x))"
      ],
      "execution_count": null,
      "outputs": [
        {
          "output_type": "stream",
          "text": [
            "2\n",
            "4\n"
          ],
          "name": "stdout"
        }
      ]
    },
    {
      "cell_type": "code",
      "metadata": {
        "colab": {
          "base_uri": "https://localhost:8080/"
        },
        "id": "Dy8oepCzscM3",
        "outputId": "03700a5a-a834-4a51-cac7-f12f3052f3b0"
      },
      "source": [
        "# 값이 특정 범위에 속하는 데이터 개수 구하기\n",
        "from bisect import bisect_left,bisect_right\n",
        "\n",
        "# 값이 [left_value,right_value]인 데이터의 개수를 반환하는 함수\n",
        "def count_by_range(a,left_value,right_value):\n",
        "  right_index = bisect_right(a,right_value)\n",
        "  left_index = bisect_left(a,left_value)\n",
        "  return right_index - left_index\n",
        "\n",
        "# 배열 선언\n",
        "a = [1,2,3,3,3,3,4,4,8,9]\n",
        "\n",
        "# 값이 4인 데이터 개수 출력\n",
        "print(count_by_range(a,4,4))\n",
        "\n",
        "# 값이 [-1,3] 범위에 있는 데이터 개수 출력\n",
        "print(count_by_range(a,-1,3))"
      ],
      "execution_count": null,
      "outputs": [
        {
          "output_type": "stream",
          "text": [
            "2\n",
            "6\n"
          ],
          "name": "stdout"
        }
      ]
    },
    {
      "cell_type": "code",
      "metadata": {
        "colab": {
          "base_uri": "https://localhost:8080/"
        },
        "id": "C7SkR98xuK7X",
        "outputId": "5af1ab6c-56b4-454c-f43f-b20f75f48727"
      },
      "source": [
        "# 파라메트릭 서치 : 최적화 문제를 결정 문제(yes or no)로 바꾸어 해결\n",
        "# 떡볶이 떡 만들기 (떡의 길이 최대 10억(범위크다) --> 이진 탐색 사용해라)\n",
        "\n",
        "# 떡의 개수(N)와 요청한 떡의 길이(M)을 입력\n",
        "n, m = list(map(int, input().split(' ')))\n",
        "# 각 떡의 개별 높이 정보를 입력\n",
        "array = list(map(int, input().split()))\n",
        "\n",
        "# 이진 탐색을 위한 시작점과 끝점 설정\n",
        "start = 0 \n",
        "end = max(array) # 19\n",
        "\n",
        "# 이진 탐색 수행 (반복적)\n",
        "result = 0\n",
        "while(start <= end):\n",
        "    total = 0\n",
        "    mid = (start + end) // 2\n",
        "    for x in array:\n",
        "        # 잘랐을 때의 떡볶이 양 계산\n",
        "        if x > mid:\n",
        "            total += x - mid\n",
        "    # 떡볶이 양이 부족한 경우 더 많이 자르기 (왼쪽 부분 탐색)\n",
        "    if total < m:\n",
        "        end = mid - 1\n",
        "    # 떡볶이 양이 충분한 경우 덜 자르기 (오른쪽 부분 탐색)\n",
        "    else:\n",
        "        result = mid # 최대한 덜 잘랐을 때가 정답이므로, 여기에서 result에 기록\n",
        "        start = mid + 1\n",
        "\n",
        "# 정답 출력\n",
        "print(result)\n",
        "\n",
        "# 4 6\n",
        "# 19 15 10 17\n",
        "# 15"
      ],
      "execution_count": null,
      "outputs": [
        {
          "output_type": "stream",
          "text": [
            "4 6\n",
            "19 15 10 17\n",
            "15\n"
          ],
          "name": "stdout"
        }
      ]
    }
  ]
}