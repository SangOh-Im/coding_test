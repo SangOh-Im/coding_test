{
  "nbformat": 4,
  "nbformat_minor": 0,
  "metadata": {
    "colab": {
      "name": "lec04_정렬.ipynb",
      "provenance": [],
      "collapsed_sections": [],
      "authorship_tag": "ABX9TyNrcKPvw3/bVXbItCVon6MI",
      "include_colab_link": true
    },
    "kernelspec": {
      "name": "python3",
      "display_name": "Python 3"
    },
    "language_info": {
      "name": "python"
    }
  },
  "cells": [
    {
      "cell_type": "markdown",
      "metadata": {
        "id": "view-in-github",
        "colab_type": "text"
      },
      "source": [
        "<a href=\"https://colab.research.google.com/github/SangOh-Im/coding_test/blob/main/lec04_%EC%A0%95%EB%A0%AC.ipynb\" target=\"_parent\"><img src=\"https://colab.research.google.com/assets/colab-badge.svg\" alt=\"Open In Colab\"/></a>"
      ]
    },
    {
      "cell_type": "code",
      "metadata": {
        "colab": {
          "base_uri": "https://localhost:8080/"
        },
        "id": "ex4uqgnxzPsS",
        "outputId": "5c48b143-8afb-4d1e-ee82-64d8cdfdfe78"
      },
      "source": [
        "# 선택정렬 (시간복잡도 o(n^2))\n",
        "array = [7, 5, 9, 0, 3, 1, 6, 2, 4, 8]\n",
        "\n",
        "for i in range(len(array)):\n",
        "    min_index = i # 가장 작은 원소의 인덱스 \n",
        "    for j in range(i + 1, len(array)):\n",
        "        if array[min_index] > array[j]:\n",
        "            min_index = j\n",
        "    array[i], array[min_index] = array[min_index], array[i] # 스와프\n",
        "\n",
        "print(array)"
      ],
      "execution_count": null,
      "outputs": [
        {
          "output_type": "stream",
          "text": [
            "[0, 1, 2, 3, 4, 5, 6, 7, 8, 9]\n"
          ],
          "name": "stdout"
        }
      ]
    },
    {
      "cell_type": "code",
      "metadata": {
        "colab": {
          "base_uri": "https://localhost:8080/"
        },
        "id": "ZPhRTs-9zaeO",
        "outputId": "80e06bd6-bf79-4bf3-8e7e-1b317f5dd5b0"
      },
      "source": [
        "# 스와프\n",
        "# 0 인덱스와 1 인덱스의 원소 교체하기\n",
        "array = [3, 5]\n",
        "array[0], array[1] = array[1], array[0]\n",
        "\n",
        "print(array)"
      ],
      "execution_count": null,
      "outputs": [
        {
          "output_type": "stream",
          "text": [
            "[5, 3]\n"
          ],
          "name": "stdout"
        }
      ]
    },
    {
      "cell_type": "code",
      "metadata": {
        "id": "hIzxBXAxzifv"
      },
      "source": [
        "# 삽입정렬 (시간복잡도 o(n^2)) 정렬이 거의 되어 있는 경우 효율 좋다.\n",
        "array = [7, 5, 9, 0, 3, 1, 6, 2, 4, 8]\n",
        "\n",
        "for i in range(1, len(array)):\n",
        "    for j in range(i, 0, -1): # 인덱스 i부터 1까지 1씩 감소하며 반복하는 문법\n",
        "        if array[j] < array[j - 1]: # 한 칸씩 왼쪽으로 이동\n",
        "            array[j], array[j - 1] = array[j - 1], array[j]\n",
        "        else: # 자기보다 작은 데이터를 만나면 그 위치에서 멈춤\n",
        "            break\n",
        "\n",
        "print(array)"
      ],
      "execution_count": null,
      "outputs": []
    },
    {
      "cell_type": "code",
      "metadata": {
        "id": "0y-MJ0bA1bi-",
        "colab": {
          "base_uri": "https://localhost:8080/"
        },
        "outputId": "e8c27daf-23eb-49b5-f96c-0fbd474a53d6"
      },
      "source": [
        "# 퀵 정렬 (피벗 값을 설정하여 분할(partition)) --> 재귀적으로 수행된다.\n",
        "# 시간복잡도 o(nlogn)\n",
        "array = [5, 7, 9, 0, 3, 1, 6, 2, 4, 8]\n",
        "\n",
        "def quick_sort(array, start, end):\n",
        "    if start >= end: # 원소가 1개인 경우 종료\n",
        "        return\n",
        "    pivot = start # 피벗은 첫 번째 원소\n",
        "    left = start + 1\n",
        "    right = end\n",
        "    while(left <= right):\n",
        "        # 피벗보다 큰 데이터를 찾을 때까지 반복 \n",
        "        while(left <= end and array[left] <= array[pivot]):\n",
        "            left += 1\n",
        "        # 피벗보다 작은 데이터를 찾을 때까지 반복\n",
        "        while(right > start and array[right] >= array[pivot]):\n",
        "            right -= 1\n",
        "        if(left > right): # 엇갈렸다면 작은 데이터와 피벗을 교체\n",
        "            array[right], array[pivot] = array[pivot], array[right]\n",
        "        else: # 엇갈리지 않았다면 작은 데이터와 큰 데이터를 교체\n",
        "            array[left], array[right] = array[right], array[left]\n",
        "    # 분할 이후 왼쪽 부분과 오른쪽 부분에서 각각 정렬 수행\n",
        "    quick_sort(array, start, right - 1)\n",
        "    quick_sort(array, right + 1, end)\n",
        "\n",
        "quick_sort(array, 0, len(array) - 1)\n",
        "print(array)\n"
      ],
      "execution_count": null,
      "outputs": [
        {
          "output_type": "stream",
          "text": [
            "[0, 1, 2, 3, 4, 5, 6, 7, 8, 9]\n"
          ],
          "name": "stdout"
        }
      ]
    },
    {
      "cell_type": "code",
      "metadata": {
        "colab": {
          "base_uri": "https://localhost:8080/"
        },
        "id": "LGJuKTzDUhPV",
        "outputId": "1e6b75e1-b21a-4599-a1f6-a2ca6f90adbb"
      },
      "source": [
        "# 파이썬의 장점을 살린 퀵 정렬\n",
        "array = [5, 7, 9, 0, 3, 1, 6, 2, 4, 8]\n",
        "\n",
        "def quick_sort(array):\n",
        "  # 리스트가 하나 이하의 원소만을 담고 있다면 종료\n",
        "  if len(array) <= 1:\n",
        "    return array\n",
        "  pivot = array[0] # 피벗은 첫 번째 원소\n",
        "  tail = array[1:] # 분할된 오른쪽 부분\n",
        "\n",
        "  left_side  = [x for x in tail if x <= pivot] # 분할된 왼쪽 부분\n",
        "  right_side = [x for x in tail if x > pivot]  # 분할된 오른쪽 부분\n",
        "\n",
        "  # 분할 이후 왼쪽 부분과 오른쪽 부분에서 각각 정렬 수행하고, 전체 리스트 반환\n",
        "  return quick_sort(left_side) + [pivot] + quick_sort(right_side)\n",
        "\n",
        "print(quick_sort(array))"
      ],
      "execution_count": null,
      "outputs": [
        {
          "output_type": "stream",
          "text": [
            "[0, 1, 2, 3, 4, 5, 6, 7, 8, 9]\n"
          ],
          "name": "stdout"
        }
      ]
    },
    {
      "cell_type": "code",
      "metadata": {
        "colab": {
          "base_uri": "https://localhost:8080/"
        },
        "id": "NlJ60YQzXLwZ",
        "outputId": "f5147a02-52c1-42e7-c969-b22f365b7efc"
      },
      "source": [
        "# 계수 정렬 (데이터 개수 N, 데이터 중 최대값 K인 정수의 경우 최악의 경우 시간 복잡도 o(N+K) 보장)\n",
        "# 모든 원소의 값이 0보다 크거나 같다고 가정\n",
        "array = [7, 5, 9, 0, 3, 1, 6, 2, 9, 1, 4, 8, 0, 5, 2]\n",
        "# 모든 범위를 포함하는 리스트 선언 (모든 값은 0으로 초기화)\n",
        "count = [0] * (max(array) + 1)\n",
        "\n",
        "for i in range(len(array)):\n",
        "    count[array[i]] += 1 # 각 데이터에 해당하는 인덱스의 값 증가\n",
        "\n",
        "for i in range(len(count)): # 리스트에 기록된 정렬 정보 확인\n",
        "    for j in range(count[i]):\n",
        "        print(i, end=' ') # 띄어쓰기를 구분으로 등장한 횟수만큼 인덱스 출력"
      ],
      "execution_count": null,
      "outputs": [
        {
          "output_type": "stream",
          "text": [
            "0 0 1 1 2 2 3 4 5 5 6 7 8 9 9 "
          ],
          "name": "stdout"
        }
      ]
    },
    {
      "cell_type": "code",
      "metadata": {
        "id": "isdcaZhQZtn_"
      },
      "source": [
        "# Counter "
      ],
      "execution_count": null,
      "outputs": []
    },
    {
      "cell_type": "code",
      "metadata": {
        "colab": {
          "base_uri": "https://localhost:8080/"
        },
        "id": "KRCYjrlvaV_4",
        "outputId": "9d328a2b-86e4-49b5-e1f8-22722e98e726"
      },
      "source": [
        "# 최악의 경우에도 nlogn을 보장하게 설계됨\n",
        "array = [7, 5, 9, 0, 3, 1, 6, 2, 4, 8]\n",
        "\n",
        "result = sorted(array)\n",
        "print(result)"
      ],
      "execution_count": null,
      "outputs": [
        {
          "output_type": "stream",
          "text": [
            "[0, 1, 2, 3, 4, 5, 6, 7, 8, 9]\n"
          ],
          "name": "stdout"
        }
      ]
    },
    {
      "cell_type": "code",
      "metadata": {
        "colab": {
          "base_uri": "https://localhost:8080/"
        },
        "id": "WrqKI9h0aY_W",
        "outputId": "64b8c8df-6062-4ee0-de95-2efcfded3d9b"
      },
      "source": [
        "array = [('바나나', 2), ('사과', 5), ('당근', 3)]\n",
        "\n",
        "def setting(data):\n",
        "    return data[1]\n",
        "\n",
        "result = sorted(array, key=setting)\n",
        "print(result)"
      ],
      "execution_count": null,
      "outputs": [
        {
          "output_type": "stream",
          "text": [
            "[('바나나', 2), ('당근', 3), ('사과', 5)]\n"
          ],
          "name": "stdout"
        }
      ]
    },
    {
      "cell_type": "code",
      "metadata": {
        "colab": {
          "base_uri": "https://localhost:8080/"
        },
        "id": "xJ4aJ-AqafN3",
        "outputId": "3787062c-4765-4398-a2a1-963409048c34"
      },
      "source": [
        "# 두 배열의 원소 교체 (길이가 n인 배열 a와 b의 원소를 최대 k번까지\n",
        "# 변경하여 A의 합이 최대가 되도록 만들어라)\n",
        "\n",
        "n,k = map(int,input().split()) # N과 K를 입력 받기\n",
        "a = list(map(int, input().split())) # 배열 A의 모든 원소 입력받기\n",
        "b = list(map(int, input().split())) # 배열 B의 모든 원소 입력받기\n",
        "\n",
        "a.sort() # 배열 A는 오름차순 정렬 수행\n",
        "b.sort(reverse = True) # 배열 B는 내림차순 정렬 수행\n",
        "\n",
        "for i in range(k):\n",
        "  # A의 원소가 B의 원소보다 작은 경우\n",
        "  if a[i] < b[i]:\n",
        "    a[i],b[i] = b[i],a[i] # 스와프\n",
        "  else:\n",
        "    break\n",
        "print(sum(a))"
      ],
      "execution_count": null,
      "outputs": [
        {
          "output_type": "stream",
          "text": [
            "5 3\n",
            "1 2 5 4 3\n",
            "5 5 6 6 5\n",
            "26\n"
          ],
          "name": "stdout"
        }
      ]
    },
    {
      "cell_type": "code",
      "metadata": {
        "id": "AgjK-VGHfV19"
      },
      "source": [
        ""
      ],
      "execution_count": null,
      "outputs": []
    }
  ]
}