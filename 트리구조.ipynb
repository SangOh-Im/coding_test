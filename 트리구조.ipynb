{
  "nbformat": 4,
  "nbformat_minor": 0,
  "metadata": {
    "colab": {
      "name": "트리구조.ipynb",
      "provenance": [],
      "collapsed_sections": [],
      "authorship_tag": "ABX9TyMEVzzKxLV+QJWTXhhYJYjq",
      "include_colab_link": true
    },
    "kernelspec": {
      "name": "python3",
      "display_name": "Python 3"
    },
    "language_info": {
      "name": "python"
    }
  },
  "cells": [
    {
      "cell_type": "markdown",
      "metadata": {
        "id": "view-in-github",
        "colab_type": "text"
      },
      "source": [
        "<a href=\"https://colab.research.google.com/github/SangOh-Im/coding_test/blob/main/%ED%8A%B8%EB%A6%AC%EA%B5%AC%EC%A1%B0.ipynb\" target=\"_parent\"><img src=\"https://colab.research.google.com/assets/colab-badge.svg\" alt=\"Open In Colab\"/></a>"
      ]
    },
    {
      "cell_type": "code",
      "metadata": {
        "colab": {
          "base_uri": "https://localhost:8080/",
          "height": 211
        },
        "id": "AmihPpnCaH9s",
        "outputId": "fc18c720-8144-4c47-b710-5060dae0c0bb"
      },
      "source": [
        "class Node:\n",
        "    def __init__(self, data, left_node, right_node):\n",
        "        self.data = data\n",
        "        self.left_node = left_node\n",
        "        self.right_node = right_node\n",
        "\n",
        "# 전위 순회(Preorder Traversal)\n",
        "def pre_order(node):\n",
        "    print(node.data, end=' ')\n",
        "    if node.left_node != None:\n",
        "        pre_order(tree[node.left_node])\n",
        "    if node.right_node != None:\n",
        "        pre_order(tree[node.right_node])\n",
        "\n",
        "# 중위 순회(Inorder Traversal)\n",
        "def in_order(node):\n",
        "    if node.left_node != None:\n",
        "        in_order(tree[node.left_node])\n",
        "    print(node.data, end=' ')\n",
        "    if node.right_node != None:\n",
        "        in_order(tree[node.right_node])\n",
        "\n",
        "# 후위 순회(Postorder Traversal)\n",
        "def post_order(node):\n",
        "    if node.left_node != None:\n",
        "        post_order(tree[node.left_node])\n",
        "    if node.right_node != None:\n",
        "        post_order(tree[node.right_node])\n",
        "    print(node.data, end=' ')\n",
        "\n",
        "n = int(input())\n",
        "tree = {}\n",
        "\n",
        "for i in range(n):\n",
        "    data, left_node, right_node = input().split()\n",
        "    if left_node == \"None\":\n",
        "        left_node = None\n",
        "    if right_node == \"None\":\n",
        "        right_node = None\n",
        "    tree[data] = Node(data, left_node, right_node)\n",
        "\n",
        "pre_order(tree['A'])\n",
        "print()\n",
        "in_order(tree['A'])\n",
        "print()\n",
        "post_order(tree['A'])\n",
        "\n",
        "'''\n",
        "[예시 입력]\n",
        "7\n",
        "A B C\n",
        "B D E\n",
        "C F G\n",
        "D None None\n",
        "E None None\n",
        "F None None\n",
        "G None None\n",
        "[예시 출력]\n",
        "A B D E C F G \n",
        "D B E A F C G \n",
        "D E B F G C A \n",
        "'''"
      ],
      "execution_count": null,
      "outputs": [
        {
          "output_type": "stream",
          "text": [
            "7\n",
            "A B C\n",
            "B D E\n",
            "C F G\n",
            "D None None\n",
            "E None None\n",
            "F None None\n",
            "G None None\n",
            "A B D E C F G \n",
            "D B E A F C G \n",
            "D E B F G C A "
          ],
          "name": "stdout"
        },
        {
          "output_type": "execute_result",
          "data": {
            "application/vnd.google.colaboratory.intrinsic+json": {
              "type": "string"
            },
            "text/plain": [
              "'\\n[예시 입력]\\n7\\nA B C\\nB D E\\nC F G\\nD None None\\nE None None\\nF None None\\nG None None\\n[예시 출력]\\nA B D E C F G \\nD B E A F C G \\nD E B F G C A \\n'"
            ]
          },
          "metadata": {
            "tags": []
          },
          "execution_count": 2
        }
      ]
    }
  ]
}