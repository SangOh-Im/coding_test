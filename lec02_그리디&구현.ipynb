{
  "nbformat": 4,
  "nbformat_minor": 0,
  "metadata": {
    "colab": {
      "name": "lec02.그리디&구현.ipynb",
      "provenance": [],
      "collapsed_sections": [],
      "authorship_tag": "ABX9TyNupSk7lHQjYkEwv1lpwQ9n",
      "include_colab_link": true
    },
    "kernelspec": {
      "name": "python3",
      "display_name": "Python 3"
    },
    "language_info": {
      "name": "python"
    }
  },
  "cells": [
    {
      "cell_type": "markdown",
      "metadata": {
        "id": "view-in-github",
        "colab_type": "text"
      },
      "source": [
        "<a href=\"https://colab.research.google.com/github/SangOh-Im/coding_test/blob/main/lec02_%EA%B7%B8%EB%A6%AC%EB%94%94%26%EA%B5%AC%ED%98%84.ipynb\" target=\"_parent\"><img src=\"https://colab.research.google.com/assets/colab-badge.svg\" alt=\"Open In Colab\"/></a>"
      ]
    },
    {
      "cell_type": "markdown",
      "metadata": {
        "id": "2NA7G9M0iLVq"
      },
      "source": [
        "# 그리디"
      ]
    },
    {
      "cell_type": "code",
      "metadata": {
        "id": "L_stxyvXY2AC"
      },
      "source": [
        "# 그리디 알고리즘 (탐욕법) : 현재 상황에서 지금 당장 좋은 것만 고르는 방법\n",
        "# 이러한 방법으로 최적의 해를 구할 수 있는지 판단해야한다. 이를 정당성 분석이라고 한다!!"
      ],
      "execution_count": null,
      "outputs": []
    },
    {
      "cell_type": "code",
      "metadata": {
        "colab": {
          "base_uri": "https://localhost:8080/"
        },
        "id": "HO6VmWX2ZJ_b",
        "outputId": "017f2bbb-9475-4f1f-c39e-593140576e3e"
      },
      "source": [
        "# 대표적인 문제가 거스름돈 알고리즘\n",
        "n = 1260\n",
        "count = 0\n",
        "\n",
        "array = [500,100,50,10]\n",
        "\n",
        "for coin in array:\n",
        "  count += n // coin # 해당 화폐로 거슬러 줄 수 있는 동전의 개수 세기\n",
        "  n %= coin\n",
        "\n",
        "print(count)"
      ],
      "execution_count": null,
      "outputs": [
        {
          "output_type": "stream",
          "text": [
            "6\n"
          ],
          "name": "stdout"
        }
      ]
    },
    {
      "cell_type": "code",
      "metadata": {
        "colab": {
          "base_uri": "https://localhost:8080/"
        },
        "id": "aj8W6-J7lZO_",
        "outputId": "85ed46ec-73e1-4a55-cfba-49b7cea7fa90"
      },
      "source": [
        "# 동빈나\n",
        "import time\n",
        "n,k = map(int,input().split())\n",
        "st = time.time()\n",
        "result = 0\n",
        "\n",
        "while True: # log 복잡도..??\n",
        "  # n이 k로 나누어 떨어지는 수가 될 때까지 빼기\n",
        "  target = (n//k)*k\n",
        "  result += (n-target)\n",
        "  n = target\n",
        "\n",
        "  # n이 k보다 작을 떄 반복문 탈출\n",
        "  if n < k:\n",
        "    break\n",
        "  # k로 나누기\n",
        "  result += 1\n",
        "  n//= k\n",
        "\n",
        "# 마지막으로 남은 수에 대하여 1씩 빼기\n",
        "result += (n-1)\n",
        "print(result)\n",
        "et = time.time()\n",
        "print(et-st)"
      ],
      "execution_count": null,
      "outputs": [
        {
          "output_type": "stream",
          "text": [
            "17 4\n",
            "3\n",
            "0.00024247169494628906\n"
          ],
          "name": "stdout"
        }
      ]
    },
    {
      "cell_type": "code",
      "metadata": {
        "id": "dnLsjJfFqf1J",
        "colab": {
          "base_uri": "https://localhost:8080/"
        },
        "outputId": "1cb6d0de-1dbc-459d-b04b-ab72e88839ce"
      },
      "source": [
        "# 곱하기 혹은 더하기\n",
        "from functools import reduce\n",
        "number = map(int,input().split()[0])\n",
        "# result = reduce(lambda x,y: x+y if x == 0 or y ==0 else x*y,number)\n",
        "# print(result)\n",
        "\n",
        "## 위의 풀이의 경우 1,1 인 경우 곱하기 해버린다!!\n",
        "result = reduce(lambda x,y: x+y if x <= 1 or y <= 1 else x*y,number)\n",
        "print(result)"
      ],
      "execution_count": null,
      "outputs": [
        {
          "output_type": "stream",
          "text": [
            "111\n",
            "3\n"
          ],
          "name": "stdout"
        }
      ]
    },
    {
      "cell_type": "code",
      "metadata": {
        "colab": {
          "base_uri": "https://localhost:8080/"
        },
        "id": "0cX_O_FsYd_8",
        "outputId": "884b61f2-cdb7-4c71-8380-76c6c7116e88"
      },
      "source": [
        "# 동빈나\n",
        "data = input()\n",
        "\n",
        "result = int(data[0])\n",
        "\n",
        "for i in range(1,len(data)):\n",
        "  num = int(data[i])\n",
        "  if num <=1 or result <= 1:\n",
        "    result += num\n",
        "  else:\n",
        "    result *= num\n",
        "    \n",
        "print(result)"
      ],
      "execution_count": null,
      "outputs": [
        {
          "output_type": "stream",
          "text": [
            "02984\n",
            "576\n"
          ],
          "name": "stdout"
        }
      ]
    },
    {
      "cell_type": "code",
      "metadata": {
        "colab": {
          "base_uri": "https://localhost:8080/"
        },
        "id": "bG8VN8IsaRmr",
        "outputId": "8faf21dc-d3b5-4d51-cc60-eeacfe3f795d"
      },
      "source": [
        "# 모험가 길드 - 공포도가 x인 모험가는 반드시 x명 이상으로 구성된 모험가 그룹에 참여\n",
        "adv = list(map(int,input().split()))\n",
        "adv.sort()\n",
        "\n",
        "tmp = []\n",
        "group = 0\n",
        "for a in adv:\n",
        "  tmp.append(a)\n",
        "  if a == len(tmp):\n",
        "    tmp = []\n",
        "    group += 1\n",
        "print(group)"
      ],
      "execution_count": null,
      "outputs": [
        {
          "output_type": "stream",
          "text": [
            "2 3 1 2 2\n",
            "2\n"
          ],
          "name": "stdout"
        }
      ]
    },
    {
      "cell_type": "markdown",
      "metadata": {
        "id": "04kV5RV7iDL2"
      },
      "source": [
        "# 구현\n"
      ]
    },
    {
      "cell_type": "code",
      "metadata": {
        "colab": {
          "base_uri": "https://localhost:8080/"
        },
        "id": "26npovnbfEhq",
        "outputId": "48286738-c251-4439-b0e8-6214174b7ec5"
      },
      "source": [
        "# 상하좌우, 동빈나\n",
        "# N 입력받기\n",
        "n = int(input())\n",
        "x, y = 1, 1\n",
        "plans = input().split()\n",
        "\n",
        "# L, R, U, D에 따른 이동 방향\n",
        "dx = [0, 0, -1, 1]\n",
        "dy = [-1, 1, 0, 0]\n",
        "move_types = ['L', 'R', 'U', 'D']\n",
        "\n",
        "# 이동 계획을 하나씩 확인\n",
        "for plan in plans:\n",
        "    # 이동 후 좌표 구하기\n",
        "    for i in range(len(move_types)):\n",
        "        if plan == move_types[i]:\n",
        "            nx = x + dx[i]\n",
        "            ny = y + dy[i]\n",
        "    # 공간을 벗어나는 경우 무시\n",
        "    if nx < 1 or ny < 1 or nx > n or ny > n:\n",
        "        continue\n",
        "    # 이동 수행\n",
        "    x, y = nx, ny\n",
        "\n",
        "print(x, y)"
      ],
      "execution_count": null,
      "outputs": [
        {
          "output_type": "stream",
          "text": [
            "5\n",
            "R R R U D D\n",
            "3 4\n"
          ],
          "name": "stdout"
        }
      ]
    },
    {
      "cell_type": "code",
      "metadata": {
        "colab": {
          "base_uri": "https://localhost:8080/"
        },
        "id": "mBLTFEVpfEdi",
        "outputId": "dfe50dae-27f3-4a7a-e18b-a687e7520a31"
      },
      "source": [
        "# 시각 \n",
        "\n",
        "#  hour에 3이 없는 경우 3이 포함된 시각 \n",
        "unit = 0\n",
        "for i in range(60):\n",
        "  for j in range(60):\n",
        "    if '3' in str(i) or '3' in str(j):\n",
        "      unit += 1\n",
        "\n",
        "result = 0\n",
        "n = int(input())+1\n",
        "for i in range(n):\n",
        "  if i==3 or i==13 or i==23:\n",
        "    result += 60*60\n",
        "  else:\n",
        "    result += unit\n",
        "\n",
        "print(result)"
      ],
      "execution_count": null,
      "outputs": [
        {
          "output_type": "stream",
          "text": [
            "5\n",
            "11475\n"
          ],
          "name": "stdout"
        }
      ]
    },
    {
      "cell_type": "code",
      "metadata": {
        "colab": {
          "base_uri": "https://localhost:8080/"
        },
        "id": "EWMoH71AvlB4",
        "outputId": "7d0ac1a2-80df-40f3-d495-549926e43d25"
      },
      "source": [
        "# 왕실의 나이트, 동빈나\n",
        "# 현재 나이트의 위치 입력받기\n",
        "input_data = input()\n",
        "row = int(input_data[1])\n",
        "column = int(ord(input_data[0])) - int(ord('a')) + 1 # ascii code\n",
        "\n",
        "# 나이트가 이동할 수 있는 8가지 방향 정의\n",
        "steps = [(-2, -1), (-1, -2), (1, -2), (2, -1), (2, 1), (1, 2), (-1, 2), (-2, 1)]\n",
        "\n",
        "# 8가지 방향에 대하여 각 위치로 이동이 가능한지 확인\n",
        "result = 0\n",
        "for step in steps:\n",
        "    # 이동하고자 하는 위치 확인\n",
        "    next_row = row + step[0]\n",
        "    next_column = column + step[1]\n",
        "    # 해당 위치로 이동이 가능하다면 카운트 증가\n",
        "    if next_row >= 1 and next_row <= 8 and next_column >= 1 and next_column <= 8:\n",
        "        result += 1\n",
        "\n",
        "print(result)"
      ],
      "execution_count": null,
      "outputs": [
        {
          "output_type": "stream",
          "text": [
            "a1\n",
            "2\n"
          ],
          "name": "stdout"
        }
      ]
    },
    {
      "cell_type": "code",
      "metadata": {
        "colab": {
          "base_uri": "https://localhost:8080/"
        },
        "id": "c1wREFh6zeOD",
        "outputId": "3d999dae-e781-4a85-9432-215247cb81f2"
      },
      "source": [
        "# 문자열 재정렬\n",
        "data = input()\n",
        "result = ''\n",
        "tmp = 0\n",
        "for d in data:\n",
        "  if d>='A' and d<='Z':\n",
        "    result += d\n",
        "  else:\n",
        "    tmp += int(d)\n",
        "\n",
        "result = sorted(result)\n",
        "print(''.join(result)+str(tmp))\n",
        "\n",
        "# 숫자가 없는 경우 0이 뒤에 추가되는 문제. x.isalpha() 의 존재!!"
      ],
      "execution_count": null,
      "outputs": [
        {
          "output_type": "stream",
          "text": [
            "D\n",
            "D0\n"
          ],
          "name": "stdout"
        }
      ]
    },
    {
      "cell_type": "code",
      "metadata": {
        "colab": {
          "base_uri": "https://localhost:8080/"
        },
        "id": "S35yLukX0mhL",
        "outputId": "8bed2a32-8401-474d-a342-6cab09f5193c"
      },
      "source": [
        "# 동빈\n",
        "data = input()\n",
        "result = []\n",
        "value = 0\n",
        "\n",
        "# 문자를 하나씩 확인하며\n",
        "for x in data:\n",
        "  if x.isalpha():\n",
        "    result.append(x)\n",
        "  else:\n",
        "    value += int(x)\n",
        "\n",
        "# 알파벳을 오름차순으로 정렬\n",
        "result.sort()\n",
        "\n",
        "# 숫자가 하나라도 존재하는 경우\n",
        "if value != 0:\n",
        "  result.append(str(value))\n",
        "\n",
        "# 최종 결과 출력\n",
        "print(''.join(result))"
      ],
      "execution_count": null,
      "outputs": [
        {
          "output_type": "stream",
          "text": [
            "SD54\n",
            "DS9\n"
          ],
          "name": "stdout"
        }
      ]
    },
    {
      "cell_type": "code",
      "metadata": {
        "id": "RHrnxize9jEE"
      },
      "source": [
        ""
      ],
      "execution_count": null,
      "outputs": []
    }
  ]
}